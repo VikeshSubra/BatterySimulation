{
 "cells": [
  {
   "cell_type": "markdown",
   "metadata": {},
   "source": [
    "Battery Simulation Script\n",
    "==\n",
    "Version 1, 2020-09-25\n",
    "--\n",
    "\n",
    "To use this code, define the nominal parameters of the battery pack being simulated and fill in the functions to reflect known battery characteristics.\n",
    "\n",
    "This simulation currently computes the following (given models for the user-defined functions)for each time point:\n",
    "* Temperature\n",
    "* State of Charge\n",
    "* Open-Circuit Voltage\n",
    "* Internal Resistance\n",
    "* Bus Voltage\n",
    "* Energy Stored\n",
    "* Total Energy Withdrawn\n",
    "\n",
    "---"
   ]
  },
  {
   "cell_type": "code",
   "execution_count": 4,
   "metadata": {},
   "outputs": [],
   "source": [
    "import csv\n",
    "\n",
    "#--------Configure code below------------------------------------------------------\n",
    "\n",
    "batteryCapacity = 129600  #Charge in coulombs\n",
    "batteryHighVoltage = 147\n",
    "batteryLowVoltage = 112\n",
    "batteryEnergy = 466560 #Energy stored in battery at full charge in joules\n",
    "\n",
    "#Define battery characteristics in the following three functions\n",
    "def getTemperature(initalTemperature, current, SoC):\n",
    "    return 30\n",
    "\n",
    "def getOCV(SoC, temperature):\n",
    "    return 126\n",
    "\n",
    "def getInternalResistance(SoC, temperature):\n",
    "    return 0.3\n",
    "\n",
    "#--------Main function below--------------------------------------------------------\n",
    "\n",
    "def runSimulation():\n",
    "    time = [0]\n",
    "    current = [0]\n",
    "    \n",
    "    temperature = [0]\n",
    "    SoC = [0]\n",
    "    OCV = []\n",
    "    internalResistance = [0]\n",
    "    \n",
    "    busVoltage = [0]\n",
    "    energyOut = [0]\n",
    "    energyStored = [0]\n",
    "    \n",
    "    csvReader = csv.reader('electricalLoad.csv', delimiter = ',')\n",
    "    \n",
    "    idx = 1\n",
    "    for row in csvReader:\n",
    "        if idx == 1:\n",
    "            #Based on rayce data\n",
    "            time.append(row[0])\n",
    "            current.append(row[1])\n",
    "        \n",
    "            #Based on characterization\n",
    "            SoC.append(SoC[idx-1] - (current[idx] * (time[idx]-time[idx-1]))/batteryCapacity)\n",
    "            temperature.append(getTemperature(temperature[idx-1], current[idx], SoC[idx]))\n",
    "            OCV.append(getOCV(SoC[idx], temperature[idx]))\n",
    "            internalResistance.append(getInternalResistance(getOCV(SoC[idx], temperature[idx])))\n",
    "        \n",
    "            #Based on theory\n",
    "            busVoltage = current[idx] * (OCV[idx]/current[idx] - internalResistance[idx])\n",
    "            energyStored = energyStore[idx-1] - OCV[idx] * current[idx]\n",
    "        if (current[idx] > 0):\n",
    "            energyOut[idx] = energyOut[idx] + current * busVoltage[idx]\n",
    "        else:\n",
    "            energyOut[idx] = energyOut[idx-1]\n",
    "        return"
   ]
  },
  {
   "cell_type": "code",
   "execution_count": null,
   "metadata": {},
   "outputs": [],
   "source": []
  },
  {
   "cell_type": "code",
   "execution_count": null,
   "metadata": {},
   "outputs": [],
   "source": []
  }
 ],
 "metadata": {
  "kernelspec": {
   "display_name": "Python 3",
   "language": "python",
   "name": "python3"
  },
  "language_info": {
   "codemirror_mode": {
    "name": "ipython",
    "version": 3
   },
   "file_extension": ".py",
   "mimetype": "text/x-python",
   "name": "python",
   "nbconvert_exporter": "python",
   "pygments_lexer": "ipython3",
   "version": "3.8.3"
  }
 },
 "nbformat": 4,
 "nbformat_minor": 4
}
